{
 "cells": [
  {
   "cell_type": "markdown",
   "id": "fecf7d53",
   "metadata": {},
   "source": [
    "## Imports"
   ]
  },
  {
   "cell_type": "code",
   "execution_count": 1,
   "id": "21800727",
   "metadata": {},
   "outputs": [
    {
     "name": "stdout",
     "output_type": "stream",
     "text": [
      "             total       used       free     shared    buffers     cached\n",
      "Mem:          7.8G       3.4G       4.4G        64K       1.8G       772M\n",
      "-/+ buffers/cache:       843M       7.0G\n",
      "Swap:           0B         0B         0B\n"
     ]
    }
   ],
   "source": [
    "!free -h"
   ]
  },
  {
   "cell_type": "code",
   "execution_count": 2,
   "id": "daba0f49",
   "metadata": {},
   "outputs": [
    {
     "name": "stdout",
     "output_type": "stream",
     "text": [
      "Requirement already satisfied: pip in /home/ec2-user/anaconda3/envs/python3/lib/python3.6/site-packages (21.1.2)\n",
      "Requirement already satisfied: sagemaker_pyspark in /home/ec2-user/anaconda3/envs/python3/lib/python3.6/site-packages (1.4.2)\n",
      "Requirement already satisfied: numpy in /home/ec2-user/anaconda3/envs/python3/lib/python3.6/site-packages (from sagemaker_pyspark) (1.19.5)\n",
      "Requirement already satisfied: pyspark==2.4.0 in /home/ec2-user/anaconda3/envs/python3/lib/python3.6/site-packages (from sagemaker_pyspark) (2.4.0)\n",
      "Requirement already satisfied: py4j==0.10.7 in /home/ec2-user/anaconda3/envs/python3/lib/python3.6/site-packages (from pyspark==2.4.0->sagemaker_pyspark) (0.10.7)\n",
      "Requirement already satisfied: pyspark in /home/ec2-user/anaconda3/envs/python3/lib/python3.6/site-packages (2.4.0)\n",
      "Requirement already satisfied: py4j==0.10.7 in /home/ec2-user/anaconda3/envs/python3/lib/python3.6/site-packages (from pyspark) (0.10.7)\n",
      "Requirement already satisfied: gdown in /home/ec2-user/anaconda3/envs/python3/lib/python3.6/site-packages (3.13.0)\n",
      "Requirement already satisfied: tqdm in /home/ec2-user/anaconda3/envs/python3/lib/python3.6/site-packages (from gdown) (4.61.1)\n",
      "Requirement already satisfied: filelock in /home/ec2-user/anaconda3/envs/python3/lib/python3.6/site-packages (from gdown) (3.0.12)\n",
      "Requirement already satisfied: requests[socks]>=2.12.0 in /home/ec2-user/anaconda3/envs/python3/lib/python3.6/site-packages (from gdown) (2.25.1)\n",
      "Requirement already satisfied: six in /home/ec2-user/anaconda3/envs/python3/lib/python3.6/site-packages (from gdown) (1.15.0)\n",
      "Requirement already satisfied: urllib3<1.27,>=1.21.1 in /home/ec2-user/anaconda3/envs/python3/lib/python3.6/site-packages (from requests[socks]>=2.12.0->gdown) (1.26.4)\n",
      "Requirement already satisfied: idna<3,>=2.5 in /home/ec2-user/anaconda3/envs/python3/lib/python3.6/site-packages (from requests[socks]>=2.12.0->gdown) (2.10)\n",
      "Requirement already satisfied: chardet<5,>=3.0.2 in /home/ec2-user/anaconda3/envs/python3/lib/python3.6/site-packages (from requests[socks]>=2.12.0->gdown) (3.0.4)\n",
      "Requirement already satisfied: certifi>=2017.4.17 in /home/ec2-user/anaconda3/envs/python3/lib/python3.6/site-packages (from requests[socks]>=2.12.0->gdown) (2020.12.5)\n",
      "Requirement already satisfied: PySocks!=1.5.7,>=1.5.6 in /home/ec2-user/anaconda3/envs/python3/lib/python3.6/site-packages (from requests[socks]>=2.12.0->gdown) (1.7.1)\n"
     ]
    }
   ],
   "source": [
    "!pip install --upgrade pip\n",
    "!pip install sagemaker_pyspark\n",
    "!pip install pyspark\n",
    "!pip install gdown"
   ]
  },
  {
   "cell_type": "markdown",
   "id": "e6571d46",
   "metadata": {},
   "source": [
    "# Session setup"
   ]
  },
  {
   "cell_type": "markdown",
   "id": "9e21cefc",
   "metadata": {},
   "source": [
    "## Current user's data retrieval"
   ]
  },
  {
   "cell_type": "code",
   "execution_count": 3,
   "id": "892ee6f8",
   "metadata": {},
   "outputs": [],
   "source": [
    "import botocore.session\n",
    "\n",
    "session = botocore.session.get_session()\n",
    "credentials = session.get_credentials()"
   ]
  },
  {
   "cell_type": "markdown",
   "id": "d4c1c3aa",
   "metadata": {},
   "source": [
    "## S3 setup"
   ]
  },
  {
   "cell_type": "code",
   "execution_count": 4,
   "id": "24a865c7",
   "metadata": {},
   "outputs": [],
   "source": [
    "# retrieves infos about S3\n",
    "import boto3\n",
    "\n",
    "s3 = boto3.client('s3')\n",
    "bucket = \"cristo-test\""
   ]
  },
  {
   "cell_type": "markdown",
   "id": "1a741860",
   "metadata": {},
   "source": [
    "## PySpark setup"
   ]
  },
  {
   "cell_type": "code",
   "execution_count": 5,
   "id": "c076cf1f",
   "metadata": {},
   "outputs": [],
   "source": [
    "from pyspark import SparkConf\n",
    "from pyspark.sql import SparkSession\n",
    "import sagemaker_pyspark\n",
    "\n",
    "conf = (SparkConf()\n",
    "        .set(\"spark.driver.extraClassPath\", \":\".join(sagemaker_pyspark.classpath_jars())))\n",
    "\n",
    "spark = (\n",
    "    SparkSession\n",
    "    .builder\n",
    "    .config(conf=conf) \\\n",
    "    .config('fs.s3a.access.key', credentials.access_key)\n",
    "    .config('fs.s3a.secret.key', credentials.secret_key)\n",
    "    .appName(\"recommender-system\")\n",
    "    .getOrCreate()\n",
    ")"
   ]
  },
  {
   "cell_type": "markdown",
   "id": "f7e1ae08",
   "metadata": {},
   "source": [
    "## Utility functions"
   ]
  },
  {
   "cell_type": "markdown",
   "id": "e334ead0",
   "metadata": {},
   "source": [
    "### S3 functions\n",
    "\n",
    "These functions are a bridge to S3 using the `boto3` module"
   ]
  },
  {
   "cell_type": "code",
   "execution_count": 6,
   "id": "756fa9c2",
   "metadata": {},
   "outputs": [],
   "source": [
    "from typing import Union, List\n",
    "import os\n",
    "import requests\n",
    "\n",
    "def list_files(client, bucket: str):\n",
    "    contents = client.list_objects(Bucket=bucket, Prefix=\"\")['Contents']\n",
    "    filenames = [filename[\"Key\"] for filename in contents]\n",
    "    return filenames\n",
    "\n",
    "def get_object(client, bucket: str, filepath: str) -> str:\n",
    "    response = client.get_object(Bucket=bucket, Key=filepath)\n",
    "    body = response[\"Body\"].read()\n",
    "    return body\n",
    "\n",
    "def load_dataframe(client, bucket: str, filepaths: Union[str, List[str]]):\n",
    "    # eventually casts a single filepath to a list \n",
    "    if isinstance(filepaths, str):\n",
    "        filepaths = [filepaths]\n",
    "    # downloads the datasets from S3\n",
    "    for filepath in filepaths:\n",
    "        if not os.path.basename(filepath) in os.listdir():\n",
    "            print(f\"Downloading {filepath} to {os.path.basename(filepath)}\")\n",
    "            s3.download_file(bucket, filepath, os.path.basename(filepath))\n",
    "    # checks if the extension is valid\n",
    "    extension = os.path.splitext(filepaths[0])[-1]\n",
    "    separator = None\n",
    "    if extension == \".csv\":\n",
    "        separator = \",\"\n",
    "    elif extension == \".tsv\":\n",
    "        separator = \"\\t\"\n",
    "    else:\n",
    "        raise Exception(f\"Unrecognized extension '{extension}'\")\n",
    "    # loads the dataframe\n",
    "    df = spark.read.csv([os.path.basename(filepath) for filepath in filepaths], header=True, inferSchema=True, sep=separator)\n",
    "    return df"
   ]
  },
  {
   "cell_type": "markdown",
   "id": "b8f27286",
   "metadata": {},
   "source": [
    "# Data downloading\n",
    "\n",
    "Since the datasets are hosted on Google Drive, this code:\n",
    "\n",
    "- downloads the compressed files (`.csv.gz`) to this notebook's space\n",
    "- decompresses the previously downloaded files (`.csv.gz` $\\rightarrow$ `.csv`)\n",
    "- uploads the files to an S3 bucket"
   ]
  },
  {
   "cell_type": "code",
   "execution_count": 7,
   "id": "62c5ce03",
   "metadata": {},
   "outputs": [],
   "source": [
    "import re\n",
    "import gdown\n",
    "import gzip\n",
    "import shutil"
   ]
  },
  {
   "cell_type": "code",
   "execution_count": 8,
   "id": "6346e674",
   "metadata": {},
   "outputs": [
    {
     "name": "stdout",
     "output_type": "stream",
     "text": [
      "Dec.csv already on S3\n",
      "Jan.csv already on S3\n",
      "Feb.csv already on S3\n",
      "Mar.csv already on S3\n",
      "Apr.csv already on S3\n"
     ]
    }
   ],
   "source": [
    "datasets_ids = [\n",
    "    (\"Dec.csv.gz\", \"1qZIwMbMgMmgDC5EoMdJ8aI9lQPsWA3-P\"),\n",
    "    (\"Jan.csv.gz\", \"1x5ohrrZNhWQN4Q-zww0RmXOwctKHH9PT\"),\n",
    "    (\"Feb.csv.gz\", \"1-Rov9fFtGJqb7_ePc6qH-Rhzxn0cIcKB\"),\n",
    "    (\"Mar.csv.gz\", \"1zr_RXpGvOWN2PrWI6itWL8HnRsCpyqz8\"),\n",
    "    (\"Apr.csv.gz\", \"1g5WoIgLe05UMdREbxAjh0bEFgVCjA1UL\")\n",
    "]\n",
    "\n",
    "# downloads the unprocessed datasets\n",
    "for dataset_name, dataset_id in datasets_ids:\n",
    "    # check if the file is already on S3\n",
    "    if dataset_name.replace(\".gz\", \"\") in list_files(client=s3, bucket=bucket):\n",
    "        print(f\"{dataset_name.replace('.gz', '')} already on S3\")\n",
    "        continue\n",
    "        \n",
    "    # downloads the data\n",
    "    if dataset_name in os.listdir() or dataset_name.replace(\".gz\", \"\") in os.listdir():\n",
    "        print(f\"{dataset_name} already downloaded\")\n",
    "    else:\n",
    "        print(f\"Downloading {dataset_name}...\")\n",
    "        gdown.download(f\"https://drive.google.com/uc?id={dataset_id}\", dataset_name, quiet=False)\n",
    "        \n",
    "    # extracts the archives\n",
    "    if dataset_name.replace(\".gz\", \"\") in os.listdir():\n",
    "        print(f\"{dataset_name} already extracted\")\n",
    "    else:\n",
    "        print(f\"Extracting {dataset_name} to {dataset_name.replace('.gz', '')}...\")\n",
    "        with gzip.open(dataset_name, 'rb') as fp_in:\n",
    "            with open(dataset_name.replace(\".gz\", \"\"), 'wb') as fp_out:\n",
    "                shutil.copyfileobj(fp_in, fp_out)\n",
    "                \n",
    "    # uploads to S3\n",
    "    print(f\"Uploading {dataset_name.replace('.gz', '')} to S3...\")\n",
    "    with open(dataset_name.replace('.gz', ''), \"rb\") as fp:\n",
    "        s3.upload_fileobj(fp, bucket, dataset_name.replace('.gz', ''))\n",
    "    print(f\"Successfully Uploaded {dataset_name.replace('.gz', '')} to S3\")\n",
    "    \n",
    "csvs = [filename for filename in list_files(client=s3, bucket=bucket) if re.match(r\".*.csv\", filename)]\n",
    "# df_unprocessed = load_dataframe(client=s3, bucket=bucket, filepaths=csvs).select(\"event_time\", \"user_id\", \"event_type\", \"product_id\")\n",
    "# df_unprocessed.printSchema()\n",
    "# df_unprocessed.show(4)"
   ]
  },
  {
   "cell_type": "markdown",
   "id": "c9a38270",
   "metadata": {},
   "source": [
    "# Data preprocessing\n",
    "\n",
    "We now have the datasets uploaded to S3\n",
    "\n",
    "This code will do the following:\n",
    "\n",
    "- downloads the `.csv` datasets from S3 to this notebook's space\n",
    "- loads the datasets into a PySpark dataframe\n",
    "- preprocesses the dataframe to:\n",
    "    - transform the implicit feedbacks to explicit ones \n",
    "    - remap ids to small integers, since the recommender system does not accept such values "
   ]
  },
  {
   "cell_type": "code",
   "execution_count": 9,
   "id": "5b0dbc75",
   "metadata": {},
   "outputs": [
    {
     "name": "stdout",
     "output_type": "stream",
     "text": [
      "root\n",
      " |-- event_time: string (nullable = true)\n",
      " |-- product_id: integer (nullable = true)\n",
      " |-- user_id: integer (nullable = true)\n",
      " |-- rating: integer (nullable = true)\n",
      "\n",
      "|df_processed| = 1048574\n",
      "+--------------------+----------+---------+------+\n",
      "|          event_time|product_id|  user_id|rating|\n",
      "+--------------------+----------+---------+------+\n",
      "|2019-12-01 00:00:...|  25399270|406166684|     3|\n",
      "|2019-12-01 00:00:...|      3761|440989572|     0|\n",
      "|2019-12-01 00:01:...|      3855|428825782|     2|\n",
      "|2019-12-01 00:01:...|      3860|432624845|    18|\n",
      "+--------------------+----------+---------+------+\n",
      "only showing top 4 rows\n",
      "\n"
     ]
    }
   ],
   "source": [
    "from cc_project import datasets\n",
    "\n",
    "df_processed = load_dataframe(client=s3, bucket=bucket, filepaths=f\"preprocessed_dataset.tsv\")\n",
    "df_processed.printSchema()\n",
    "print(f\"|df_processed| = {df_processed.count()}\")\n",
    "df_processed.show(4)"
   ]
  },
  {
   "cell_type": "markdown",
   "id": "a9939f8b",
   "metadata": {},
   "source": [
    "# Recommender system"
   ]
  },
  {
   "cell_type": "markdown",
   "id": "567b2ad4",
   "metadata": {},
   "source": [
    "## Training and test splits"
   ]
  },
  {
   "cell_type": "code",
   "execution_count": 10,
   "id": "0eb6ea7c",
   "metadata": {},
   "outputs": [
    {
     "name": "stdout",
     "output_type": "stream",
     "text": [
      "|df_train| = 838987\n",
      "+--------------------+----------+---------+------+\n",
      "|          event_time|product_id|  user_id|rating|\n",
      "+--------------------+----------+---------+------+\n",
      "|2019-12-01 00:00:...|  25399270|406166684|     3|\n",
      "|2019-12-01 00:00:...|      3761|440989572|     0|\n",
      "|2019-12-01 00:01:...|      3855|428825782|     2|\n",
      "|2019-12-01 00:01:...|      3860|432624845|    18|\n",
      "+--------------------+----------+---------+------+\n",
      "only showing top 4 rows\n",
      "\n",
      "|df_test| = 209587\n",
      "+--------------------+----------+---------+------+\n",
      "|          event_time|product_id|  user_id|rating|\n",
      "+--------------------+----------+---------+------+\n",
      "|2019-12-01 00:02:...|  16200027|438982266|     3|\n",
      "|2019-12-01 00:06:...|      3681|411869891|     3|\n",
      "|2019-12-01 00:07:...|  25401814|385698033|     3|\n",
      "|2019-12-01 00:11:...|      2338|383650265|     2|\n",
      "+--------------------+----------+---------+------+\n",
      "only showing top 4 rows\n",
      "\n"
     ]
    }
   ],
   "source": [
    "df_train, df_test = df_processed.randomSplit([0.8, 0.2])\n",
    "\n",
    "for df_name, df in [(\"df_train\", df_train),\n",
    "                    (\"df_test\", df_test)]:\n",
    "    print(f\"|{df_name}| = {df.count()}\")\n",
    "    df.show(4)"
   ]
  },
  {
   "cell_type": "markdown",
   "id": "5ca2279c",
   "metadata": {},
   "source": [
    "## Training"
   ]
  },
  {
   "cell_type": "code",
   "execution_count": 11,
   "id": "d724d4ba",
   "metadata": {},
   "outputs": [],
   "source": [
    "from cc_project import recommender_system"
   ]
  },
  {
   "cell_type": "code",
   "execution_count": 13,
   "id": "5f7f161b",
   "metadata": {},
   "outputs": [
    {
     "name": "stdout",
     "output_type": "stream",
     "text": [
      "\ttraining model 1/12\n",
      "\t\tfound best model with RMSE=4.933335635127373:\n",
      "\t\t\trank=10\treg_param=1\n",
      "\ttraining model 2/12\n",
      "\ttraining model 3/12\n",
      "\ttraining model 4/12\n",
      "\ttraining model 5/12\n",
      "\ttraining model 6/12\n",
      "\ttraining model 7/12\n",
      "\ttraining model 8/12\n",
      "\ttraining model 9/12\n",
      "\ttraining model 10/12\n",
      "\ttraining model 11/12\n",
      "\ttraining model 12/12\n",
      "Training time: 310s\n",
      "+--------------------+----------+---------+------+----------+\n",
      "|          event_time|product_id|  user_id|rating|prediction|\n",
      "+--------------------+----------+---------+------+----------+\n",
      "|2019-12-25 15:56:...|      3749|442302775|     7| 3.1553183|\n",
      "|2019-12-02 08:45:...|      3749|425489638|     5| 2.3343449|\n",
      "|2019-12-25 07:35:...|      3749|439871079|     8|  6.504874|\n",
      "|2019-12-11 10:39:...|      3749|416292228|     2|  4.159937|\n",
      "+--------------------+----------+---------+------+----------+\n",
      "only showing top 4 rows\n",
      "\n"
     ]
    }
   ],
   "source": [
    "model = recommender_system.train_recommender_system(df_train=df_train, df_test=df_test,\n",
    "                                                    tuning=True, logs=True)\n",
    "\n",
    "model.transform(df_test).na.drop().show(4)"
   ]
  },
  {
   "cell_type": "markdown",
   "id": "637064d2",
   "metadata": {},
   "source": [
    "### Saving the model"
   ]
  },
  {
   "cell_type": "code",
   "execution_count": 14,
   "id": "40fe88f5",
   "metadata": {},
   "outputs": [
    {
     "name": "stdout",
     "output_type": "stream",
     "text": [
      "Model saved on S3 to model.zip\n"
     ]
    }
   ],
   "source": [
    "# saves locally\n",
    "model_path = recommender_system.save_model_zip(model=model, model_name=\"model\", output_folder=\".\", logs=False)\n",
    "\n",
    "# saves to S3\n",
    "with open(model_path, \"rb\") as fp:\n",
    "        s3.upload_fileobj(fp, bucket, model_path.split(\"/\")[-1])\n",
    "print(f\"Model saved on S3 to {model_path.split('/')[-1]}\")"
   ]
  },
  {
   "cell_type": "markdown",
   "id": "50a35cad",
   "metadata": {},
   "source": [
    "## Evaluation"
   ]
  },
  {
   "cell_type": "code",
   "execution_count": 15,
   "id": "dbfc761b",
   "metadata": {},
   "outputs": [
    {
     "name": "stdout",
     "output_type": "stream",
     "text": [
      "Starting evaluation of ALS model\n",
      "Evaluation time: 8s\n",
      "Root-mean-square error: 4.933335635127373\n"
     ]
    }
   ],
   "source": [
    "rmse = recommender_system.evaluate_recommender_system(df=df_test, model=model, logs=True)"
   ]
  }
 ],
 "metadata": {
  "kernelspec": {
   "display_name": "conda_python3",
   "language": "python",
   "name": "conda_python3"
  },
  "language_info": {
   "codemirror_mode": {
    "name": "ipython",
    "version": 3
   },
   "file_extension": ".py",
   "mimetype": "text/x-python",
   "name": "python",
   "nbconvert_exporter": "python",
   "pygments_lexer": "ipython3",
   "version": "3.6.13"
  },
  "toc-autonumbering": true,
  "toc-showcode": false,
  "toc-showmarkdowntxt": false
 },
 "nbformat": 4,
 "nbformat_minor": 5
}
