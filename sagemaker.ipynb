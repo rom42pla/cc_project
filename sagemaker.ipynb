{
 "cells": [
  {
   "cell_type": "markdown",
   "id": "6d0398f4",
   "metadata": {},
   "source": [
    "## Imports"
   ]
  },
  {
   "cell_type": "code",
   "execution_count": 1,
   "id": "aed659f1",
   "metadata": {},
   "outputs": [
    {
     "name": "stdout",
     "output_type": "stream",
     "text": [
      "Requirement already satisfied: pip in /home/ec2-user/anaconda3/envs/python3/lib/python3.6/site-packages (21.1.2)\n",
      "Requirement already satisfied: sagemaker_pyspark in /home/ec2-user/anaconda3/envs/python3/lib/python3.6/site-packages (1.4.2)\n",
      "Requirement already satisfied: pyspark==2.4.0 in /home/ec2-user/anaconda3/envs/python3/lib/python3.6/site-packages (from sagemaker_pyspark) (2.4.0)\n",
      "Requirement already satisfied: numpy in /home/ec2-user/anaconda3/envs/python3/lib/python3.6/site-packages (from sagemaker_pyspark) (1.19.5)\n",
      "Requirement already satisfied: py4j==0.10.7 in /home/ec2-user/anaconda3/envs/python3/lib/python3.6/site-packages (from pyspark==2.4.0->sagemaker_pyspark) (0.10.7)\n",
      "Requirement already satisfied: pyspark in /home/ec2-user/anaconda3/envs/python3/lib/python3.6/site-packages (2.4.0)\n",
      "Requirement already satisfied: py4j==0.10.7 in /home/ec2-user/anaconda3/envs/python3/lib/python3.6/site-packages (from pyspark) (0.10.7)\n",
      "Requirement already satisfied: gdown in /home/ec2-user/anaconda3/envs/python3/lib/python3.6/site-packages (3.13.0)\n",
      "Requirement already satisfied: six in /home/ec2-user/anaconda3/envs/python3/lib/python3.6/site-packages (from gdown) (1.15.0)\n",
      "Requirement already satisfied: filelock in /home/ec2-user/anaconda3/envs/python3/lib/python3.6/site-packages (from gdown) (3.0.12)\n",
      "Requirement already satisfied: requests[socks]>=2.12.0 in /home/ec2-user/anaconda3/envs/python3/lib/python3.6/site-packages (from gdown) (2.25.1)\n",
      "Requirement already satisfied: tqdm in /home/ec2-user/anaconda3/envs/python3/lib/python3.6/site-packages (from gdown) (4.61.1)\n",
      "Requirement already satisfied: idna<3,>=2.5 in /home/ec2-user/anaconda3/envs/python3/lib/python3.6/site-packages (from requests[socks]>=2.12.0->gdown) (2.10)\n",
      "Requirement already satisfied: chardet<5,>=3.0.2 in /home/ec2-user/anaconda3/envs/python3/lib/python3.6/site-packages (from requests[socks]>=2.12.0->gdown) (3.0.4)\n",
      "Requirement already satisfied: certifi>=2017.4.17 in /home/ec2-user/anaconda3/envs/python3/lib/python3.6/site-packages (from requests[socks]>=2.12.0->gdown) (2020.12.5)\n",
      "Requirement already satisfied: urllib3<1.27,>=1.21.1 in /home/ec2-user/anaconda3/envs/python3/lib/python3.6/site-packages (from requests[socks]>=2.12.0->gdown) (1.26.4)\n",
      "Requirement already satisfied: PySocks!=1.5.7,>=1.5.6 in /home/ec2-user/anaconda3/envs/python3/lib/python3.6/site-packages (from requests[socks]>=2.12.0->gdown) (1.7.1)\n"
     ]
    }
   ],
   "source": [
    "!pip install --upgrade pip\n",
    "!pip install sagemaker_pyspark\n",
    "!pip install pyspark\n",
    "!pip install gdown"
   ]
  },
  {
   "cell_type": "markdown",
   "id": "7366732c",
   "metadata": {},
   "source": [
    "# Session setup"
   ]
  },
  {
   "cell_type": "markdown",
   "id": "41116471",
   "metadata": {},
   "source": [
    "## Current user's data retrieval"
   ]
  },
  {
   "cell_type": "code",
   "execution_count": 2,
   "id": "1a7b6427",
   "metadata": {},
   "outputs": [],
   "source": [
    "import botocore.session\n",
    "\n",
    "session = botocore.session.get_session()\n",
    "credentials = session.get_credentials()"
   ]
  },
  {
   "cell_type": "markdown",
   "id": "1cceaf02",
   "metadata": {},
   "source": [
    "## S3 setup"
   ]
  },
  {
   "cell_type": "code",
   "execution_count": 3,
   "id": "ad8fd8de",
   "metadata": {},
   "outputs": [],
   "source": [
    "# retrieves infos about S3\n",
    "import boto3\n",
    "\n",
    "s3 = boto3.client('s3')\n",
    "bucket = \"cristo-test\""
   ]
  },
  {
   "cell_type": "markdown",
   "id": "75b3c76f",
   "metadata": {},
   "source": [
    "## PySpark setup"
   ]
  },
  {
   "cell_type": "code",
   "execution_count": 4,
   "id": "6870e5d3",
   "metadata": {},
   "outputs": [],
   "source": [
    "from pyspark import SparkConf\n",
    "from pyspark.sql import SparkSession\n",
    "import sagemaker_pyspark\n",
    "\n",
    "conf = (SparkConf()\n",
    "        .set(\"spark.driver.extraClassPath\", \":\".join(sagemaker_pyspark.classpath_jars())))\n",
    "\n",
    "spark = (\n",
    "    SparkSession\n",
    "    .builder\n",
    "    .config(conf=conf) \\\n",
    "    .config('fs.s3a.access.key', credentials.access_key)\n",
    "    .config('fs.s3a.secret.key', credentials.secret_key)\n",
    "    .appName(\"recommender-system\")\n",
    "    .getOrCreate()\n",
    ")"
   ]
  },
  {
   "cell_type": "markdown",
   "id": "70f75245",
   "metadata": {},
   "source": [
    "## Utility functions"
   ]
  },
  {
   "cell_type": "markdown",
   "id": "b9998faf",
   "metadata": {},
   "source": [
    "### S3 functions\n",
    "\n",
    "These functions are a bridge to S3 using the `boto3` module"
   ]
  },
  {
   "cell_type": "code",
   "execution_count": 5,
   "id": "86555f65",
   "metadata": {},
   "outputs": [],
   "source": [
    "from typing import Union, List\n",
    "import os\n",
    "import requests\n",
    "\n",
    "def list_files(client, bucket: str):\n",
    "    contents = client.list_objects(Bucket=bucket, Prefix=\"\")['Contents']\n",
    "    filenames = [filename[\"Key\"] for filename in contents]\n",
    "    return filenames\n",
    "\n",
    "def get_object(client, bucket: str, filepath: str) -> str:\n",
    "    response = client.get_object(Bucket=bucket, Key=filepath)\n",
    "    body = response[\"Body\"].read()\n",
    "    return body\n",
    "\n",
    "def load_dataframe(client, bucket: str, filepaths: Union[str, List[str]]):\n",
    "    # eventually casts a single filepath to a list \n",
    "    if isinstance(filepaths, str):\n",
    "        filepaths = [filepaths]\n",
    "    # downloads the datasets from S3\n",
    "    for filepath in filepaths:\n",
    "        if not os.path.basename(filepath) in os.listdir():\n",
    "            print(f\"Downloading {filepath} to {os.path.basename(filepath)}\")\n",
    "            s3.download_file(bucket, filepath, os.path.basename(filepath))\n",
    "    df = spark.read.csv([os.path.basename(filepath) for filepath in filepaths], header=True)\n",
    "    return df"
   ]
  },
  {
   "cell_type": "markdown",
   "id": "db18e037",
   "metadata": {},
   "source": [
    "# Data downloading\n",
    "\n",
    "Since the datasets are hosted on Google Drive, this code:\n",
    "\n",
    "- downloads the compressed files (`.csv.gz`) to this notebook's space\n",
    "- decompresses the previously downloaded files (`.csv.gz` $\\rightarrow$ `.csv`)\n",
    "- uploads the files to an S3 bucket"
   ]
  },
  {
   "cell_type": "code",
   "execution_count": 6,
   "id": "ba54bff9",
   "metadata": {},
   "outputs": [
    {
     "name": "stdout",
     "output_type": "stream",
     "text": [
      "Dec.csv already on S3\n",
      "Jan.csv already on S3\n",
      "Feb.csv already on S3\n",
      "Mar.csv already on S3\n",
      "Apr.csv already on S3\n"
     ]
    }
   ],
   "source": [
    "import gdown\n",
    "import gzip\n",
    "import shutil\n",
    "    \n",
    "datasets_ids = [\n",
    "    (\"Dec.csv.gz\", \"1qZIwMbMgMmgDC5EoMdJ8aI9lQPsWA3-P\"),\n",
    "    (\"Jan.csv.gz\", \"1x5ohrrZNhWQN4Q-zww0RmXOwctKHH9PT\"),\n",
    "    (\"Feb.csv.gz\", \"1-Rov9fFtGJqb7_ePc6qH-Rhzxn0cIcKB\"),\n",
    "    (\"Mar.csv.gz\", \"1zr_RXpGvOWN2PrWI6itWL8HnRsCpyqz8\"),\n",
    "    (\"Apr.csv.gz\", \"1g5WoIgLe05UMdREbxAjh0bEFgVCjA1UL\")\n",
    "]\n",
    "\n",
    "for dataset_name, dataset_id in datasets_ids:\n",
    "    # check if the file is already on S3\n",
    "    if dataset_name.replace(\".gz\", \"\") in list_files(client=s3, bucket=bucket):\n",
    "        print(f\"{dataset_name.replace('.gz', '')} already on S3\")\n",
    "        continue\n",
    "        \n",
    "    # downloads the data\n",
    "    if dataset_name in os.listdir() or dataset_name.replace(\".gz\", \"\") in os.listdir():\n",
    "        print(f\"{dataset_name} already downloaded\")\n",
    "    else:\n",
    "        print(f\"Downloading {dataset_name}...\")\n",
    "        gdown.download(f\"https://drive.google.com/uc?id={dataset_id}\", dataset_name, quiet=False)\n",
    "        \n",
    "    # extracts the archives\n",
    "    if dataset_name.replace(\".gz\", \"\") in os.listdir():\n",
    "        print(f\"{dataset_name} already extracted\")\n",
    "    else:\n",
    "        print(f\"Extracting {dataset_name} to {dataset_name.replace('.gz', '')}...\")\n",
    "        with gzip.open(dataset_name, 'rb') as fp_in:\n",
    "            with open(dataset_name.replace(\".gz\", \"\"), 'wb') as fp_out:\n",
    "                shutil.copyfileobj(fp_in, fp_out)\n",
    "                \n",
    "    # uploads to S3\n",
    "    print(f\"Uploading {dataset_name.replace('.gz', '')} to S3...\")\n",
    "    with open(dataset_name.replace('.gz', ''), \"rb\") as fp:\n",
    "        s3.upload_fileobj(fp, bucket, dataset_name.replace('.gz', ''))\n",
    "    print(f\"Successfully Uploaded {dataset_name.replace('.gz', '')} to S3\")"
   ]
  },
  {
   "cell_type": "code",
   "execution_count": 7,
   "id": "667364ed",
   "metadata": {},
   "outputs": [
    {
     "name": "stdout",
     "output_type": "stream",
     "text": [
      "root\n",
      " |-- event_time: string (nullable = true)\n",
      " |-- event_type: string (nullable = true)\n",
      " |-- product_id: string (nullable = true)\n",
      " |-- category_id: string (nullable = true)\n",
      " |-- category_code: string (nullable = true)\n",
      " |-- brand: string (nullable = true)\n",
      " |-- price: string (nullable = true)\n",
      " |-- user_id: string (nullable = true)\n",
      " |-- user_session: string (nullable = true)\n",
      "\n",
      "+--------------------+----------+----------+-------------------+--------------------+-------+-------+---------+--------------------+\n",
      "|          event_time|event_type|product_id|        category_id|       category_code|  brand|  price|  user_id|        user_session|\n",
      "+--------------------+----------+----------+-------------------+--------------------+-------+-------+---------+--------------------+\n",
      "|2020-04-01 00:00:...|      view|   1201465|2232732101407408685|apparel.shoes.sli...|samsung| 230.38|568984877|e2456cef-2d4f-42b...|\n",
      "|2020-04-01 00:00:...|      view|   1307156|2053013554658804075|electronics.audio...|  apple|1352.67|514955500|38f43134-de83-471...|\n",
      "|2020-04-01 00:00:...|      view|   1480477|2053013563835941749|appliances.kitche...|  apple|1184.05|633645770|16aba270-b3c2-4b2...|\n",
      "|2020-04-01 00:00:...|      view|   1307050|2053013554658804075|electronics.audio...|  apple|1724.34|564933778|05b443bd-e68a-4d7...|\n",
      "+--------------------+----------+----------+-------------------+--------------------+-------+-------+---------+--------------------+\n",
      "only showing top 4 rows\n",
      "\n"
     ]
    }
   ],
   "source": [
    "import re\n",
    "\n",
    "# finds the locations of the .csv files \n",
    "csvs = [filename for filename in list_files(client=s3, bucket=bucket) if re.match(r\".*.csv\", filename)][0]\n",
    "df = load_dataframe(client=s3, bucket=bucket, filepaths=csvs)\n",
    "df.printSchema()\n",
    "df.show(4)"
   ]
  },
  {
   "cell_type": "markdown",
   "id": "d5ae5f00",
   "metadata": {},
   "source": [
    "# Data preprocessing\n",
    "\n",
    "We now have the datasets uploaded to S3\n",
    "\n",
    "This code will do the following:\n",
    "\n",
    "- downloads the `.csv` datasets from S3 to this notebook's space\n",
    "- loads the datasets into a PySpark dataframe\n",
    "- preprocesses the dataframe to:\n",
    "    - transform the implicit feedbacks to explicit ones \n",
    "    - remap ids to small integers, since the recommender system does not accept such values "
   ]
  },
  {
   "cell_type": "code",
   "execution_count": null,
   "id": "5b71c271",
   "metadata": {},
   "outputs": [],
   "source": [
    "import time\n",
    "from cc_project import datasets\n",
    "\n",
    "starting_time = time.time()\n",
    "\n",
    "df = datasets.preprocess_dataframe(df=df.sample(0.01))\n",
    "df.printSchema()\n",
    "df.show(4)\n",
    "\n",
    "print(time.time() - starting_time)\n",
    "# upload_file_from_url(client=s3, bucket=bucket, url='https://www.facebook.com/favicon.ico', verbose=True)\n",
    "#     print(csv)\n",
    "#     df = load_dataframe(client=s3, bucket=bucket, filepath=\"Dec.csv\", preprocess=True)\n",
    "#     df.show()"
   ]
  },
  {
   "cell_type": "code",
   "execution_count": null,
   "id": "ab83342a",
   "metadata": {},
   "outputs": [],
   "source": [
    "# !cd cc_project; bash s3_bucket/train_scheduler.sh"
   ]
  }
 ],
 "metadata": {
  "kernelspec": {
   "display_name": "conda_python3",
   "language": "python",
   "name": "conda_python3"
  },
  "language_info": {
   "codemirror_mode": {
    "name": "ipython",
    "version": 3
   },
   "file_extension": ".py",
   "mimetype": "text/x-python",
   "name": "python",
   "nbconvert_exporter": "python",
   "pygments_lexer": "ipython3",
   "version": "3.6.13"
  },
  "toc-autonumbering": true,
  "toc-showcode": false,
  "toc-showmarkdowntxt": false
 },
 "nbformat": 4,
 "nbformat_minor": 5
}
