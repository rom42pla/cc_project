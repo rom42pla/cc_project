{
 "cells": [
  {
   "cell_type": "markdown",
   "id": "7f66684a",
   "metadata": {},
   "source": [
    "## Imports"
   ]
  },
  {
   "cell_type": "code",
   "execution_count": 1,
   "id": "9cf0a77a",
   "metadata": {},
   "outputs": [
    {
     "name": "stdout",
     "output_type": "stream",
     "text": [
      "Requirement already satisfied: pip in /home/ec2-user/anaconda3/envs/python3/lib/python3.6/site-packages (21.0.1)\n",
      "Collecting pip\n",
      "  Downloading pip-21.1.2-py3-none-any.whl (1.5 MB)\n",
      "\u001b[K     |████████████████████████████████| 1.5 MB 34.8 MB/s eta 0:00:01\n",
      "\u001b[?25hInstalling collected packages: pip\n",
      "  Attempting uninstall: pip\n",
      "    Found existing installation: pip 21.0.1\n",
      "    Uninstalling pip-21.0.1:\n",
      "      Successfully uninstalled pip-21.0.1\n",
      "Successfully installed pip-21.1.2\n",
      "Requirement already satisfied: sagemaker_pyspark in /home/ec2-user/anaconda3/envs/python3/lib/python3.6/site-packages (1.4.2)\n",
      "Requirement already satisfied: pyspark==2.4.0 in /home/ec2-user/anaconda3/envs/python3/lib/python3.6/site-packages (from sagemaker_pyspark) (2.4.0)\n",
      "Requirement already satisfied: numpy in /home/ec2-user/anaconda3/envs/python3/lib/python3.6/site-packages (from sagemaker_pyspark) (1.19.5)\n",
      "Requirement already satisfied: py4j==0.10.7 in /home/ec2-user/anaconda3/envs/python3/lib/python3.6/site-packages (from pyspark==2.4.0->sagemaker_pyspark) (0.10.7)\n",
      "Requirement already satisfied: pyspark in /home/ec2-user/anaconda3/envs/python3/lib/python3.6/site-packages (2.4.0)\n",
      "Requirement already satisfied: py4j==0.10.7 in /home/ec2-user/anaconda3/envs/python3/lib/python3.6/site-packages (from pyspark) (0.10.7)\n",
      "Collecting gdown\n",
      "  Downloading gdown-3.13.0.tar.gz (9.3 kB)\n",
      "  Installing build dependencies ... \u001b[?25ldone\n",
      "\u001b[?25h  Getting requirements to build wheel ... \u001b[?25ldone\n",
      "\u001b[?25h    Preparing wheel metadata ... \u001b[?25ldone\n",
      "\u001b[?25hRequirement already satisfied: filelock in /home/ec2-user/anaconda3/envs/python3/lib/python3.6/site-packages (from gdown) (3.0.12)\n",
      "Requirement already satisfied: requests[socks]>=2.12.0 in /home/ec2-user/anaconda3/envs/python3/lib/python3.6/site-packages (from gdown) (2.25.1)\n",
      "Collecting tqdm\n",
      "  Downloading tqdm-4.61.1-py2.py3-none-any.whl (75 kB)\n",
      "\u001b[K     |████████████████████████████████| 75 kB 5.2 MB/s  eta 0:00:01\n",
      "\u001b[?25hRequirement already satisfied: six in /home/ec2-user/anaconda3/envs/python3/lib/python3.6/site-packages (from gdown) (1.15.0)\n",
      "Requirement already satisfied: urllib3<1.27,>=1.21.1 in /home/ec2-user/anaconda3/envs/python3/lib/python3.6/site-packages (from requests[socks]>=2.12.0->gdown) (1.26.4)\n",
      "Requirement already satisfied: chardet<5,>=3.0.2 in /home/ec2-user/anaconda3/envs/python3/lib/python3.6/site-packages (from requests[socks]>=2.12.0->gdown) (3.0.4)\n",
      "Requirement already satisfied: certifi>=2017.4.17 in /home/ec2-user/anaconda3/envs/python3/lib/python3.6/site-packages (from requests[socks]>=2.12.0->gdown) (2020.12.5)\n",
      "Requirement already satisfied: idna<3,>=2.5 in /home/ec2-user/anaconda3/envs/python3/lib/python3.6/site-packages (from requests[socks]>=2.12.0->gdown) (2.10)\n",
      "Requirement already satisfied: PySocks!=1.5.7,>=1.5.6 in /home/ec2-user/anaconda3/envs/python3/lib/python3.6/site-packages (from requests[socks]>=2.12.0->gdown) (1.7.1)\n",
      "Building wheels for collected packages: gdown\n",
      "  Building wheel for gdown (PEP 517) ... \u001b[?25ldone\n",
      "\u001b[?25h  Created wheel for gdown: filename=gdown-3.13.0-py3-none-any.whl size=9034 sha256=474c320b03afb67ec9b99b3da0ac3d598fb712449fdac418b37fd0a3086dcf9e\n",
      "  Stored in directory: /home/ec2-user/.cache/pip/wheels/6a/87/bd/09b16161b149fd6711ac76b5420d78ed58bd6a320e892117c3\n",
      "Successfully built gdown\n",
      "Installing collected packages: tqdm, gdown\n",
      "Successfully installed gdown-3.13.0 tqdm-4.61.1\n"
     ]
    }
   ],
   "source": [
    "!pip install --upgrade pip\n",
    "!pip install sagemaker_pyspark\n",
    "!pip install pyspark\n",
    "!pip install gdown"
   ]
  },
  {
   "cell_type": "markdown",
   "id": "288a991c",
   "metadata": {},
   "source": [
    "# Session setup"
   ]
  },
  {
   "cell_type": "markdown",
   "id": "abaaa66a",
   "metadata": {},
   "source": [
    "## Current user's data retrieval"
   ]
  },
  {
   "cell_type": "code",
   "execution_count": 2,
   "id": "9c24f802",
   "metadata": {},
   "outputs": [],
   "source": [
    "import botocore.session\n",
    "\n",
    "session = botocore.session.get_session()\n",
    "credentials = session.get_credentials()"
   ]
  },
  {
   "cell_type": "markdown",
   "id": "aaad1024",
   "metadata": {},
   "source": [
    "## S3 setup"
   ]
  },
  {
   "cell_type": "code",
   "execution_count": 3,
   "id": "68c55330",
   "metadata": {},
   "outputs": [],
   "source": [
    "# retrieves infos about S3\n",
    "import boto3\n",
    "\n",
    "s3 = boto3.client('s3')\n",
    "bucket = \"cristo-test\""
   ]
  },
  {
   "cell_type": "markdown",
   "id": "00abfd11",
   "metadata": {},
   "source": [
    "## PySpark setup"
   ]
  },
  {
   "cell_type": "code",
   "execution_count": 4,
   "id": "be28b2cd",
   "metadata": {},
   "outputs": [],
   "source": [
    "from pyspark import SparkConf\n",
    "from pyspark.sql import SparkSession\n",
    "import sagemaker_pyspark\n",
    "\n",
    "conf = (SparkConf()\n",
    "        .set(\"spark.driver.extraClassPath\", \":\".join(sagemaker_pyspark.classpath_jars())))\n",
    "\n",
    "spark = (\n",
    "    SparkSession\n",
    "    .builder\n",
    "    .config(conf=conf) \\\n",
    "    .config('fs.s3a.access.key', credentials.access_key)\n",
    "    .config('fs.s3a.secret.key', credentials.secret_key)\n",
    "    .appName(\"recommender-system\")\n",
    "    .getOrCreate()\n",
    ")"
   ]
  },
  {
   "cell_type": "markdown",
   "id": "42cde6a1",
   "metadata": {},
   "source": [
    "## Utility functions"
   ]
  },
  {
   "cell_type": "markdown",
   "id": "c9117df8",
   "metadata": {},
   "source": [
    "### S3 functions\n",
    "\n",
    "These functions are a bridge to S3 using the `boto3` module"
   ]
  },
  {
   "cell_type": "code",
   "execution_count": 5,
   "id": "eef7ad07",
   "metadata": {},
   "outputs": [],
   "source": [
    "from typing import Union, List\n",
    "import os\n",
    "import requests\n",
    "\n",
    "def list_files(client, bucket: str):\n",
    "    contents = client.list_objects(Bucket=bucket, Prefix=\"\")['Contents']\n",
    "    filenames = [filename[\"Key\"] for filename in contents]\n",
    "    return filenames\n",
    "\n",
    "def get_object(client, bucket: str, filepath: str) -> str:\n",
    "    response = client.get_object(Bucket=bucket, Key=filepath)\n",
    "    body = response[\"Body\"].read()\n",
    "    return body\n",
    "\n",
    "def load_dataframe(client, bucket: str, filepaths: Union[str, List[str]]):\n",
    "    # eventually casts a single filepath to a list \n",
    "    if isinstance(filepaths, str):\n",
    "        filepaths = [filepaths]\n",
    "    # downloads the datasets from S3\n",
    "    for filepath in filepaths:\n",
    "        if not os.path.basename(filepath) in os.listdir():\n",
    "            print(f\"Downloading {filepath} to {os.path.basename(filepath)}\")\n",
    "            s3.download_file(bucket, filepath, os.path.basename(filepath))\n",
    "    df = spark.read.csv([os.path.basename(filepath) for filepath in filepaths], header=True).select(\"event_time\", \"user_id\", \"event_type\", \"product_id\")\n",
    "    return df"
   ]
  },
  {
   "cell_type": "markdown",
   "id": "2c628dcf",
   "metadata": {},
   "source": [
    "# Data downloading\n",
    "\n",
    "Since the datasets are hosted on Google Drive, this code:\n",
    "\n",
    "- downloads the compressed files (`.csv.gz`) to this notebook's space\n",
    "- decompresses the previously downloaded files (`.csv.gz` $\\rightarrow$ `.csv`)\n",
    "- uploads the files to an S3 bucket"
   ]
  },
  {
   "cell_type": "code",
   "execution_count": 6,
   "id": "69d331ec",
   "metadata": {},
   "outputs": [
    {
     "name": "stdout",
     "output_type": "stream",
     "text": [
      "Dec.csv already on S3\n",
      "Jan.csv already on S3\n",
      "Feb.csv already on S3\n",
      "Mar.csv already on S3\n",
      "Apr.csv already on S3\n"
     ]
    }
   ],
   "source": [
    "import gdown\n",
    "import gzip\n",
    "import shutil\n",
    "    \n",
    "datasets_ids = [\n",
    "    (\"Dec.csv.gz\", \"1qZIwMbMgMmgDC5EoMdJ8aI9lQPsWA3-P\"),\n",
    "    (\"Jan.csv.gz\", \"1x5ohrrZNhWQN4Q-zww0RmXOwctKHH9PT\"),\n",
    "    (\"Feb.csv.gz\", \"1-Rov9fFtGJqb7_ePc6qH-Rhzxn0cIcKB\"),\n",
    "    (\"Mar.csv.gz\", \"1zr_RXpGvOWN2PrWI6itWL8HnRsCpyqz8\"),\n",
    "    (\"Apr.csv.gz\", \"1g5WoIgLe05UMdREbxAjh0bEFgVCjA1UL\")\n",
    "]\n",
    "\n",
    "for dataset_name, dataset_id in datasets_ids:\n",
    "    # check if the file is already on S3\n",
    "    if dataset_name.replace(\".gz\", \"\") in list_files(client=s3, bucket=bucket):\n",
    "        print(f\"{dataset_name.replace('.gz', '')} already on S3\")\n",
    "        continue\n",
    "        \n",
    "    # downloads the data\n",
    "    if dataset_name in os.listdir() or dataset_name.replace(\".gz\", \"\") in os.listdir():\n",
    "        print(f\"{dataset_name} already downloaded\")\n",
    "    else:\n",
    "        print(f\"Downloading {dataset_name}...\")\n",
    "        gdown.download(f\"https://drive.google.com/uc?id={dataset_id}\", dataset_name, quiet=False)\n",
    "        \n",
    "    # extracts the archives\n",
    "    if dataset_name.replace(\".gz\", \"\") in os.listdir():\n",
    "        print(f\"{dataset_name} already extracted\")\n",
    "    else:\n",
    "        print(f\"Extracting {dataset_name} to {dataset_name.replace('.gz', '')}...\")\n",
    "        with gzip.open(dataset_name, 'rb') as fp_in:\n",
    "            with open(dataset_name.replace(\".gz\", \"\"), 'wb') as fp_out:\n",
    "                shutil.copyfileobj(fp_in, fp_out)\n",
    "                \n",
    "    # uploads to S3\n",
    "    print(f\"Uploading {dataset_name.replace('.gz', '')} to S3...\")\n",
    "    with open(dataset_name.replace('.gz', ''), \"rb\") as fp:\n",
    "        s3.upload_fileobj(fp, bucket, dataset_name.replace('.gz', ''))\n",
    "    print(f\"Successfully Uploaded {dataset_name.replace('.gz', '')} to S3\")"
   ]
  },
  {
   "cell_type": "code",
   "execution_count": null,
   "id": "1e4af4da",
   "metadata": {},
   "outputs": [
    {
     "name": "stdout",
     "output_type": "stream",
     "text": [
      "\n",
      "root\n",
      " |-- event_time: string (nullable = true)\n",
      " |-- user_id: string (nullable = true)\n",
      " |-- event_type: string (nullable = true)\n",
      " |-- product_id: string (nullable = true)\n",
      "\n"
     ]
    }
   ],
   "source": [
    "import time\n",
    "import re\n",
    "\n",
    "starting_time = time.time()\n",
    "\n",
    "# finds the locations of the .csv files \n",
    "csvs = [filename for filename in list_files(client=s3, bucket=bucket) if re.match(r\".*.csv\", filename)][0]\n",
    "df = load_dataframe(client=s3, bucket=bucket, filepaths=csvs)\n",
    "\n",
    "print()\n",
    "df.printSchema()\n",
    "print(f\"|df| = {df.count()}\")\n",
    "df.show(4)\n",
    "\n",
    "# print(f\"\\t...done in {time.time() - starting_time}\")"
   ]
  },
  {
   "cell_type": "markdown",
   "id": "f9f9cd3a",
   "metadata": {},
   "source": [
    "# Data preprocessing\n",
    "\n",
    "We now have the datasets uploaded to S3\n",
    "\n",
    "This code will do the following:\n",
    "\n",
    "- downloads the `.csv` datasets from S3 to this notebook's space\n",
    "- loads the datasets into a PySpark dataframe\n",
    "- preprocesses the dataframe to:\n",
    "    - transform the implicit feedbacks to explicit ones \n",
    "    - remap ids to small integers, since the recommender system does not accept such values "
   ]
  },
  {
   "cell_type": "code",
   "execution_count": null,
   "id": "6270d5e4",
   "metadata": {},
   "outputs": [],
   "source": [
    "\n",
    "from cc_project import datasets\n",
    "\n",
    "df = datasets.preprocess_dataframe(df=df)\n",
    "df.printSchema()\n",
    "df.show(4)\n",
    "\n",
    "\n",
    "# upload_file_from_url(client=s3, bucket=bucket, url='https://www.facebook.com/favicon.ico', verbose=True)\n",
    "#     print(csv)\n",
    "#     df = load_dataframe(client=s3, bucket=bucket, filepath=\"Dec.csv\", preprocess=True)\n",
    "#     df.show()"
   ]
  },
  {
   "cell_type": "code",
   "execution_count": null,
   "id": "3c77a561",
   "metadata": {},
   "outputs": [],
   "source": [
    "# !cd cc_project; bash s3_bucket/train_scheduler.sh"
   ]
  }
 ],
 "metadata": {
  "kernelspec": {
   "display_name": "conda_python3",
   "language": "python",
   "name": "conda_python3"
  },
  "language_info": {
   "codemirror_mode": {
    "name": "ipython",
    "version": 3
   },
   "file_extension": ".py",
   "mimetype": "text/x-python",
   "name": "python",
   "nbconvert_exporter": "python",
   "pygments_lexer": "ipython3",
   "version": "3.6.13"
  },
  "toc-autonumbering": true,
  "toc-showcode": false,
  "toc-showmarkdowntxt": false
 },
 "nbformat": 4,
 "nbformat_minor": 5
}
