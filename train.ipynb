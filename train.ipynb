{
 "cells": [
  {
   "cell_type": "code",
   "execution_count": 8,
   "metadata": {},
   "outputs": [
    {
     "name": "stdout",
     "output_type": "stream",
     "text": [
      "Requirement already satisfied: pyspark in /home/rom42pla/anaconda3/lib/python3.8/site-packages (3.1.1)\n",
      "Requirement already satisfied: py4j==0.10.9 in /home/rom42pla/anaconda3/lib/python3.8/site-packages (from pyspark) (0.10.9)\n",
      "\u001b[33mWARNING: You are using pip version 21.0.1; however, version 21.1.1 is available.\n",
      "You should consider upgrading via the '/home/rom42pla/anaconda3/bin/python -m pip install --upgrade pip' command.\u001b[0m\n"
     ]
    }
   ],
   "source": [
    "import time\n",
    "from os.path import join\n",
    "\n",
    "!pip install pyspark\n",
    "from pyspark import SparkContext, SparkConf\n",
    "from pyspark.sql import SparkSession\n",
    "\n",
    "import recommender_system"
   ]
  },
  {
   "cell_type": "code",
   "execution_count": 9,
   "metadata": {},
   "outputs": [],
   "source": [
    "starting_time = time.time()"
   ]
  },
  {
   "cell_type": "markdown",
   "metadata": {},
   "source": [
    "# PySpark setup"
   ]
  },
  {
   "cell_type": "code",
   "execution_count": 10,
   "metadata": {},
   "outputs": [],
   "source": [
    "# creates session and context\n",
    "conf = SparkConf().set(\"spark.ui.port\", \"4050\")\n",
    "spark = SparkSession.builder.getOrCreate()\n",
    "sc = SparkContext.getOrCreate()"
   ]
  },
  {
   "cell_type": "markdown",
   "metadata": {},
   "source": [
    "# Data retrieval"
   ]
  },
  {
   "cell_type": "code",
   "execution_count": 11,
   "metadata": {},
   "outputs": [
    {
     "name": "stdout",
     "output_type": "stream",
     "text": [
      "root\n",
      " |-- event_time: string (nullable = true)\n",
      " |-- user_id: integer (nullable = true)\n",
      " |-- event_type: string (nullable = true)\n",
      " |-- category_id: integer (nullable = true)\n",
      " |-- rating: integer (nullable = false)\n",
      "\n",
      "|ratings| = 408042, \t|users| = 309931, \t|items| = 596\n",
      "+--------------------+---------+----------+-----------+------+\n",
      "|          event_time|  user_id|event_type|category_id|rating|\n",
      "+--------------------+---------+----------+-----------+------+\n",
      "|2019-10-01 00:01:...|514218020|      view|-1769995873|     1|\n",
      "|2019-10-01 00:06:...|533940457|      view|-1769995873|     1|\n",
      "|2019-10-01 00:07:...|547290577|      view|-1090518581|     1|\n",
      "|2019-10-01 00:07:...|547949682|      view|-2080373895|     1|\n",
      "+--------------------+---------+----------+-----------+------+\n",
      "only showing top 4 rows\n",
      "\n"
     ]
    }
   ],
   "source": [
    "# reads the dataframe\n",
    "df = spark.read.options(header='True', inferSchema='True', delimiter=',').csv(join(\".\", \"dataset_sample.csv\"))\n",
    "df = recommender_system.preprocess_dataframe(df=df)\n",
    "df.cache()\n",
    "df.printSchema()\n",
    "print(f\"|ratings| = {df.count()}, \\t\"\n",
    "      f\"|users| = {df.select('user_id').distinct().count()}, \\t\"\n",
    "      f\"|items| = {df.select('category_id').distinct().count()}\")\n",
    "df.show(4)"
   ]
  },
  {
   "cell_type": "markdown",
   "metadata": {},
   "source": [
    "# Training"
   ]
  },
  {
   "cell_type": "code",
   "execution_count": 12,
   "metadata": {},
   "outputs": [
    {
     "name": "stdout",
     "output_type": "stream",
     "text": [
      "Starting training of ALS model\n",
      "Training time: 7s\n"
     ]
    }
   ],
   "source": [
    "# training the model\n",
    "training, test = df.randomSplit([0.8, 0.2])\n",
    "model = recommender_system.train_recommender_system(df=training, iterations=10, logs=True)\n",
    "# model.save(\"model\")"
   ]
  },
  {
   "cell_type": "markdown",
   "metadata": {},
   "source": [
    "# Results"
   ]
  },
  {
   "cell_type": "code",
   "execution_count": 13,
   "metadata": {},
   "outputs": [
    {
     "name": "stdout",
     "output_type": "stream",
     "text": [
      "Total time: 17s\n"
     ]
    }
   ],
   "source": [
    "total_time = time.time() - starting_time\n",
    "print(f\"Total time: {int(total_time)}s\")"
   ]
  },
  {
   "cell_type": "code",
   "execution_count": null,
   "metadata": {},
   "outputs": [],
   "source": []
  }
 ],
 "metadata": {
  "kernelspec": {
   "display_name": "Python 3",
   "language": "python",
   "name": "python3"
  },
  "language_info": {
   "codemirror_mode": {
    "name": "ipython",
    "version": 3
   },
   "file_extension": ".py",
   "mimetype": "text/x-python",
   "name": "python",
   "nbconvert_exporter": "python",
   "pygments_lexer": "ipython3",
   "version": "3.8.5"
  }
 },
 "nbformat": 4,
 "nbformat_minor": 4
}
